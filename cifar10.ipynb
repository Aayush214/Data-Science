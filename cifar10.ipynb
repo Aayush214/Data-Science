{
  "nbformat": 4,
  "nbformat_minor": 0,
  "metadata": {
    "colab": {
      "name": "cifar10.ipynb",
      "provenance": []
    },
    "kernelspec": {
      "name": "python3",
      "display_name": "Python 3"
    },
    "accelerator": "GPU"
  },
  "cells": [
    {
      "cell_type": "code",
      "metadata": {
        "id": "LMoQ_8jDC3Kp",
        "colab_type": "code",
        "colab": {}
      },
      "source": [
        "from keras.datasets import cifar10\n",
        "from keras.models import Sequential\n",
        "from keras.layers import Dense\n",
        "from keras.utils.np_utils import to_categorical as tcg\n",
        "from keras.optimizers import SGD"
      ],
      "execution_count": 0,
      "outputs": []
    },
    {
      "cell_type": "code",
      "metadata": {
        "id": "AJvTGYxFDFa7",
        "colab_type": "code",
        "colab": {}
      },
      "source": [
        "(xtr,ytr),(xte,yte) = cifar10.load_data()"
      ],
      "execution_count": 0,
      "outputs": []
    },
    {
      "cell_type": "markdown",
      "metadata": {
        "id": "OtQyokDlEI_m",
        "colab_type": "text"
      },
      "source": [
        ""
      ]
    },
    {
      "cell_type": "code",
      "metadata": {
        "id": "u7sZermoEA9a",
        "colab_type": "code",
        "outputId": "0926d2ef-8aaa-4f3b-d721-4cb9f0ff6cb6",
        "colab": {
          "base_uri": "https://localhost:8080/",
          "height": 35
        }
      },
      "source": [
        "xtr.shape"
      ],
      "execution_count": 0,
      "outputs": [
        {
          "output_type": "execute_result",
          "data": {
            "text/plain": [
              "(50000, 32, 32, 3)"
            ]
          },
          "metadata": {
            "tags": []
          },
          "execution_count": 36
        }
      ]
    },
    {
      "cell_type": "markdown",
      "metadata": {
        "id": "GITi2ml5GvIO",
        "colab_type": "text"
      },
      "source": [
        "(number of img, hegiht of img, width of img )"
      ]
    },
    {
      "cell_type": "code",
      "metadata": {
        "id": "mo0EbT02G_dT",
        "colab_type": "code",
        "colab": {}
      },
      "source": [
        "from matplotlib import pyplot as plt"
      ],
      "execution_count": 0,
      "outputs": []
    },
    {
      "cell_type": "code",
      "metadata": {
        "id": "I2MR1_eyHREQ",
        "colab_type": "code",
        "outputId": "1cea46c5-2372-48a4-aacb-aac42f26c0c8",
        "colab": {
          "base_uri": "https://localhost:8080/",
          "height": 284
        }
      },
      "source": [
        "plt.imshow(xtr[0])"
      ],
      "execution_count": 0,
      "outputs": [
        {
          "output_type": "execute_result",
          "data": {
            "text/plain": [
              "<matplotlib.image.AxesImage at 0x7fa1f2775a58>"
            ]
          },
          "metadata": {
            "tags": []
          },
          "execution_count": 38
        },
        {
          "output_type": "display_data",
          "data": {
            "image/png": "[encoded data removed]",
            "text/plain": [
              "<Figure size 432x288 with 1 Axes>"
            ]
          },
          "metadata": {
            "tags": []
          }
        }
      ]
    },
    {
      "cell_type": "code",
      "metadata": {
        "id": "ztJoYdTqHWU2",
        "colab_type": "code",
        "colab": {}
      },
      "source": [
        "xtr = xtr.reshape(xtr.shape[0],-1).astype('float32')/255\n",
        "xte = xte.reshape(xte.shape[0],-1).astype('float32')/255\n",
        "\n",
        "ytr = tcg(ytr)\n",
        "yte = tcg(yte)\n",
        "\n"
      ],
      "execution_count": 0,
      "outputs": []
    },
    {
      "cell_type": "code",
      "metadata": {
        "id": "0iE4nH3sR7q5",
        "colab_type": "code",
        "colab": {}
      },
      "source": [
        "sg = SGD(lr=0.01)"
      ],
      "execution_count": 0,
      "outputs": []
    },
    {
      "cell_type": "code",
      "metadata": {
        "id": "neFbrnTyIS3Y",
        "colab_type": "code",
        "outputId": "2a6483ae-6a97-48e2-bf82-e28b92c072b1",
        "colab": {
          "base_uri": "https://localhost:8080/",
          "height": 421
        }
      },
      "source": [
        "model = Sequential()\n",
        "model.add(Dense(input_dim=3072,units=3072,activation='relu'))\n",
        "model.add(Dense(1024,activation='relu'))\n",
        "model.add(Dense(512,activation='relu'))\n",
        "model.add(Dense(10,activation='softmax'))\n",
        "model.compile(loss='categorical_crossentropy',optimizer=sg,metrics=['accuracy'])\n",
        "model.fit(xtr,ytr,validation_data=(xte,yte),epochs=10,batch_size=256)"
      ],
      "execution_count": 0,
      "outputs": [
        {
          "output_type": "stream",
          "text": [
            "Train on 50000 samples, validate on 10000 samples\n",
            "Epoch 1/10\n",
            "50000/50000 [==============================] - 2s 43us/step - loss: 2.0007 - acc: 0.2929 - val_loss: 1.8687 - val_acc: 0.3454\n",
            "Epoch 2/10\n",
            "50000/50000 [==============================] - 2s 31us/step - loss: 1.8231 - acc: 0.3618 - val_loss: 1.7879 - val_acc: 0.3705\n",
            "Epoch 3/10\n",
            "50000/50000 [==============================] - 2s 31us/step - loss: 1.7556 - acc: 0.3851 - val_loss: 1.7799 - val_acc: 0.3558\n",
            "Epoch 4/10\n",
            "50000/50000 [==============================] - 2s 31us/step - loss: 1.7087 - acc: 0.4016 - val_loss: 1.6706 - val_acc: 0.4198\n",
            "Epoch 5/10\n",
            "50000/50000 [==============================] - 2s 31us/step - loss: 1.6721 - acc: 0.4154 - val_loss: 1.6673 - val_acc: 0.3998\n",
            "Epoch 6/10\n",
            "50000/50000 [==============================] - 2s 31us/step - loss: 1.6397 - acc: 0.4260 - val_loss: 1.7697 - val_acc: 0.3584\n",
            "Epoch 7/10\n",
            "50000/50000 [==============================] - 2s 31us/step - loss: 1.6158 - acc: 0.4362 - val_loss: 1.6038 - val_acc: 0.4409\n",
            "Epoch 8/10\n",
            "50000/50000 [==============================] - 2s 31us/step - loss: 1.5900 - acc: 0.4438 - val_loss: 1.6215 - val_acc: 0.4270\n",
            "Epoch 9/10\n",
            "50000/50000 [==============================] - 2s 31us/step - loss: 1.5691 - acc: 0.4521 - val_loss: 1.5661 - val_acc: 0.4497\n",
            "Epoch 10/10\n",
            "50000/50000 [==============================] - 2s 31us/step - loss: 1.5538 - acc: 0.4569 - val_loss: 1.5851 - val_acc: 0.4453\n"
          ],
          "name": "stdout"
        },
        {
          "output_type": "execute_result",
          "data": {
            "text/plain": [
              "<keras.callbacks.History at 0x7fa1f28f5860>"
            ]
          },
          "metadata": {
            "tags": []
          },
          "execution_count": 52
        }
      ]
    },
    {
      "cell_type": "code",
      "metadata": {
        "id": "WKVfazL0OdJO",
        "colab_type": "code",
        "colab": {}
      },
      "source": [
        "\n"
      ],
      "execution_count": 0,
      "outputs": []
    }
  ]
}